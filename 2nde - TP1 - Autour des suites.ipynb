{
 "cells": [
  {
   "cell_type": "markdown",
   "metadata": {},
   "source": [
    "#                                              TP 1 Autour des suites"
   ]
  },
  {
   "cell_type": "markdown",
   "metadata": {},
   "source": [
    "##   1. Définir une suite donnée par une formule"
   ]
  },
  {
   "cell_type": "markdown",
   "metadata": {},
   "source": [
    "### Déclaration d’une fonction en Python :"
   ]
  },
  {
   "cell_type": "code",
   "execution_count": null,
   "metadata": {},
   "outputs": [],
   "source": [
    "def nom_ fonction(paramètre1, paramètre2,……) :\n",
    "    instructions\n",
    "    return(résultat 1, résultat 2, ……)"
   ]
  },
  {
   "cell_type": "markdown",
   "metadata": {},
   "source": [
    "def introduit une nouvelle fonction.\n",
    "Les deux points entrainent une indentation (décalage vers la droite) délimitant la déclaration de la fonction.\n",
    "Le bloc peut servir à effectuer une série d’actions, mais le plus souvent il se termine par return pour renvoyer une ou plusieurs valeurs."
   ]
  },
  {
   "cell_type": "code",
   "execution_count": null,
   "metadata": {},
   "outputs": [],
   "source": []
  },
  {
   "cell_type": "markdown",
   "metadata": {},
   "source": [
    " La fonction définie ci-dessous renvoie le terme d'indice n de la suite définie par u(n) = n²-n+41."
   ]
  },
  {
   "cell_type": "code",
   "execution_count": 4,
   "metadata": {},
   "outputs": [],
   "source": [
    "def u(n):\n",
    "    u = n**2-n+41\n",
    "    return(u)"
   ]
  },
  {
   "cell_type": "markdown",
   "metadata": {},
   "source": [
    "Tester cette fonction et calculer le terme d'indice 7 de la suite u en tapant u(7)."
   ]
  },
  {
   "cell_type": "code",
   "execution_count": null,
   "metadata": {},
   "outputs": [],
   "source": []
  },
  {
   "cell_type": "markdown",
   "metadata": {},
   "source": [
    "Définir la fontion v qui renvoie le terme d'indice n de la suite définie par v(n)=(-4n²+7)(5n-1)"
   ]
  },
  {
   "cell_type": "code",
   "execution_count": 22,
   "metadata": {},
   "outputs": [],
   "source": [
    "def v(n):\n",
    "    v = ......\n",
    "    return(......)"
   ]
  },
  {
   "cell_type": "markdown",
   "metadata": {},
   "source": [
    "Utiliser cette fonction pour afficher le terme d'indice 2 de la suite v"
   ]
  },
  {
   "cell_type": "code",
   "execution_count": null,
   "metadata": {},
   "outputs": [],
   "source": []
  },
  {
   "cell_type": "markdown",
   "metadata": {},
   "source": [
    "Définir la fontion w qui renvoie le terme d'indice n de la suite définie par w(n)=-3n²+8n+17"
   ]
  },
  {
   "cell_type": "code",
   "execution_count": null,
   "metadata": {},
   "outputs": [],
   "source": [
    "def ....\n"
   ]
  },
  {
   "cell_type": "markdown",
   "metadata": {},
   "source": [
    "Utiliser cette fonction pour afficher le terme d'indice 15 de la suite w "
   ]
  },
  {
   "cell_type": "code",
   "execution_count": null,
   "metadata": {},
   "outputs": [],
   "source": []
  },
  {
   "cell_type": "markdown",
   "metadata": {},
   "source": [
    "## 2. Suites définies par récurrence"
   ]
  },
  {
   "cell_type": "markdown",
   "metadata": {},
   "source": [
    "### Ecriture d’une boucle bornée en Python : le nombre de répétitions étant connu "
   ]
  },
  {
   "cell_type": "code",
   "execution_count": null,
   "metadata": {},
   "outputs": [],
   "source": [
    "for k in range(n,m+1):\n",
    "    instructions"
   ]
  },
  {
   "cell_type": "markdown",
   "metadata": {},
   "source": [
    "for introduit la boucle.\n",
    "Elle commence à l'entier n et s'arrête à l'entier m, les valeurs de k augmentant de 1 en 1.\n",
    "Les deux points entrainent une indentation (décalage vers la droite) comportant les instructions à répéter.\n",
    "C’est le retour vers la gauche qui marque la sortie de la boucle.\n",
    "Exemple: for k in range(2,6): k prend les valeurs 2, 3, 4 et 5"
   ]
  },
  {
   "cell_type": "markdown",
   "metadata": {},
   "source": [
    " La fonction définie ci-dessous renvoie le terme d'indice n de la suite a définie par a(0)= 1 et a(n+1) = a(n)²-7."
   ]
  },
  {
   "cell_type": "code",
   "execution_count": 1,
   "metadata": {},
   "outputs": [],
   "source": [
    "def a(n):\n",
    "    a=1\n",
    "    for k in range(0,n):\n",
    "        a=a**2-7\n",
    "    return(a)"
   ]
  },
  {
   "cell_type": "markdown",
   "metadata": {},
   "source": [
    "Tester la fonction pour calculer le terme d'indice 0 puis celui d'indice 5"
   ]
  },
  {
   "cell_type": "code",
   "execution_count": null,
   "metadata": {},
   "outputs": [],
   "source": []
  },
  {
   "cell_type": "markdown",
   "metadata": {},
   "source": [
    "Créer, en complétant les pointillés ci dessous, une fonction qui renvoie le terme d'indice n de la suite b définie par b(1)= -7 et b(n+1) = 0.5b(n) - 4b(n)²."
   ]
  },
  {
   "cell_type": "code",
   "execution_count": null,
   "metadata": {},
   "outputs": [],
   "source": [
    "def b(n):\n",
    "    b=.....\n",
    "    for k in range(...,...):\n",
    "        b=.........\n",
    "    return(...)"
   ]
  },
  {
   "cell_type": "markdown",
   "metadata": {},
   "source": [
    "Tester la fonction pour calculer le terme d'indice 1 puis le terme d'indice 10"
   ]
  },
  {
   "cell_type": "code",
   "execution_count": null,
   "metadata": {},
   "outputs": [],
   "source": []
  },
  {
   "cell_type": "markdown",
   "metadata": {},
   "source": [
    "Créer une fonction qui renvoie le terme d'indice n de la suite c définie par c(2)= 2 et c(n+1) = c(n) + 1/c(n)."
   ]
  },
  {
   "cell_type": "code",
   "execution_count": null,
   "metadata": {},
   "outputs": [],
   "source": [
    "def ....\n"
   ]
  },
  {
   "cell_type": "markdown",
   "metadata": {},
   "source": [
    "Tester la fonction pour calculer le terme d'indice 2 puis le terme d'indice 17"
   ]
  },
  {
   "cell_type": "code",
   "execution_count": null,
   "metadata": {},
   "outputs": [],
   "source": []
  },
  {
   "cell_type": "markdown",
   "metadata": {},
   "source": [
    "## 3. Liste des termes d'une suite\n",
    "Si on veut afficher plusieurs termes d'une suite, on doit utiliser une liste pour les stocker.\n",
    "Une liste se note entre crochets et pour ajouter un terme on ajoute avec + une liste contenant le nouveau terme.\n",
    "Exemple: L=[1]+[2] donne L=[1,2] et L=[ ] donne une liste vide.\n",
    "\n",
    "On reprend la fonction u vue au début et on la complète pour afficher la liste des n premiers termes."
   ]
  },
  {
   "cell_type": "code",
   "execution_count": 2,
   "metadata": {},
   "outputs": [],
   "source": [
    "def listeu(n):\n",
    "    L=[]\n",
    "    for k in range(0,n):\n",
    "        u = k**2-k+41\n",
    "        L=L+[u]\n",
    "    return(L)"
   ]
  },
  {
   "cell_type": "markdown",
   "metadata": {},
   "source": [
    "Afficher la liste des 5 premiers termes de la suite u"
   ]
  },
  {
   "cell_type": "code",
   "execution_count": null,
   "metadata": {},
   "outputs": [],
   "source": []
  },
  {
   "cell_type": "markdown",
   "metadata": {},
   "source": [
    "En complétant la fonction v vue plus haut, faire en sorte qu'elle affiche la liste des n premiers termes"
   ]
  },
  {
   "cell_type": "code",
   "execution_count": null,
   "metadata": {},
   "outputs": [],
   "source": [
    "def listev(n):\n",
    "    L=......\n",
    "    for k in range(...,...):\n",
    "        v=.........\n",
    "        L=......\n",
    "    return(...)"
   ]
  },
  {
   "cell_type": "markdown",
   "metadata": {},
   "source": [
    "Afficher la liste des 5 premiers termes de la suite v"
   ]
  },
  {
   "cell_type": "code",
   "execution_count": null,
   "metadata": {},
   "outputs": [],
   "source": []
  },
  {
   "cell_type": "markdown",
   "metadata": {},
   "source": [
    "En complétant la fonction w vue plus haut, faire en sorte qu'elle affiche la liste des n premiers termes"
   ]
  },
  {
   "cell_type": "code",
   "execution_count": null,
   "metadata": {},
   "outputs": [],
   "source": [
    "def ....\n"
   ]
  },
  {
   "cell_type": "markdown",
   "metadata": {},
   "source": [
    "Afficher la liste des 12 premiers termes de la soite w"
   ]
  },
  {
   "cell_type": "code",
   "execution_count": null,
   "metadata": {},
   "outputs": [],
   "source": []
  },
  {
   "cell_type": "markdown",
   "metadata": {},
   "source": [
    "## 4. Somme des termes d'une suite\n",
    "Si on veut calculer la somme des temres d'une suite, on doit ajouter une variable pour calculer cette somme au fur et à mesure.\n",
    "\n",
    "On reprend la fonction a vue plus haut et on la complète pour afficher une liste de termes."
   ]
  },
  {
   "cell_type": "code",
   "execution_count": 20,
   "metadata": {},
   "outputs": [],
   "source": [
    "def sommea(n):\n",
    "    c=1\n",
    "    S=1\n",
    "    for k in range(0,n):\n",
    "        c=u**2-7\n",
    "        S=S+u\n",
    "    return(S)"
   ]
  },
  {
   "cell_type": "markdown",
   "metadata": {},
   "source": [
    "Calculer la somme des 3 premiers termes de la suite a"
   ]
  },
  {
   "cell_type": "code",
   "execution_count": null,
   "metadata": {},
   "outputs": [],
   "source": []
  },
  {
   "cell_type": "markdown",
   "metadata": {},
   "source": [
    "En complétant la fonction b vue plus haut, faire en sorte qu'elle affiche la somme des n premiers termes"
   ]
  },
  {
   "cell_type": "code",
   "execution_count": null,
   "metadata": {},
   "outputs": [],
   "source": [
    "def sommeb(n):\n",
    "    b=.....\n",
    "    S=......\n",
    "    for k in range(...,...):\n",
    "        b=.........\n",
    "        S=......\n",
    "    return(...)"
   ]
  },
  {
   "cell_type": "markdown",
   "metadata": {},
   "source": [
    "Calculer la somme des 3 premiers termes de la suite v"
   ]
  },
  {
   "cell_type": "code",
   "execution_count": null,
   "metadata": {},
   "outputs": [],
   "source": []
  },
  {
   "cell_type": "markdown",
   "metadata": {},
   "source": [
    "En complétant la fonction c vue plus haut, faire en sorte qu'elle affiche la somme des n premiers termes"
   ]
  },
  {
   "cell_type": "code",
   "execution_count": null,
   "metadata": {},
   "outputs": [],
   "source": [
    "def ....\n"
   ]
  },
  {
   "cell_type": "markdown",
   "metadata": {},
   "source": [
    "Calculer la somme des 5 premiers termes de la suite v"
   ]
  },
  {
   "cell_type": "code",
   "execution_count": null,
   "metadata": {},
   "outputs": [],
   "source": []
  }
 ],
 "metadata": {
  "kernelspec": {
   "display_name": "Python 3 (ipykernel)",
   "language": "python",
   "name": "python3"
  },
  "language_info": {
   "codemirror_mode": {
    "name": "ipython",
    "version": 3
   },
   "file_extension": ".py",
   "mimetype": "text/x-python",
   "name": "python",
   "nbconvert_exporter": "python",
   "pygments_lexer": "ipython3",
   "version": "3.9.7"
  }
 },
 "nbformat": 4,
 "nbformat_minor": 4
}
