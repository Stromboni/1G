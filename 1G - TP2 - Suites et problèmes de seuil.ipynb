{
 "cells": [
  {
   "cell_type": "markdown",
   "metadata": {},
   "source": [
    "#                                              TP 2 Suites et algorithme de seuil"
   ]
  },
  {
   "cell_type": "markdown",
   "metadata": {},
   "source": [
    "### Ecriture d’une boucle non bornée en Python :  une condition d’arrêt étant connue"
   ]
  },
  {
   "cell_type": "code",
   "execution_count": null,
   "metadata": {},
   "outputs": [],
   "source": [
    "while condition :\n",
    "    instructions"
   ]
  },
  {
   "cell_type": "markdown",
   "metadata": {},
   "source": [
    "while introduit la boucle.\n",
    "Elle se répète tant que la condition est vérifiée.\n",
    "Les deux points entrainent une indentation (décalage vers la droite) comportant les instructions à répéter.\n",
    "C’est le retour vers la gauche qui marque la sortie de la boucle."
   ]
  },
  {
   "cell_type": "markdown",
   "metadata": {},
   "source": [
    "Le 1er janvier 2015, Etienne a reçu 90€ puis chaque année, cette somme augmente de 5€ puis s'ajoute au reste. Etienne décide de ne pas dépenser cet argent avant de disposer de 700€.\n",
    "La fonction année ci dessous, sans paramètre, renvoie l'année à partir de laquelle Etienne pourra dépenser son argent"
   ]
  },
  {
   "cell_type": "code",
   "execution_count": 1,
   "metadata": {},
   "outputs": [],
   "source": [
    "def année() :\n",
    "    E = 90\n",
    "    T = 90\n",
    "    A = 2015\n",
    "    while T < 700 :\n",
    "        E = E + 5\n",
    "        T = T + E\n",
    "        A = A + 1\n",
    "    return(A)"
   ]
  },
  {
   "cell_type": "markdown",
   "metadata": {},
   "source": [
    "Utilser cette fonction pour savoir en quelle année Etienne pourra dépenser son argent"
   ]
  },
  {
   "cell_type": "code",
   "execution_count": null,
   "metadata": {},
   "outputs": [],
   "source": []
  },
  {
   "cell_type": "markdown",
   "metadata": {},
   "source": [
    "Modifier la fonction année en lui ajoutant comme paramètre la somme qu'Etienne souhaite avoir pour pouvoir dépenser son argent et qui renvoie l'année à partir de laquelle Etienne pourra le dépenser."
   ]
  },
  {
   "cell_type": "code",
   "execution_count": 3,
   "metadata": {},
   "outputs": [],
   "source": []
  },
  {
   "cell_type": "code",
   "execution_count": null,
   "metadata": {},
   "outputs": [],
   "source": [
    "Tester cette fonction pour 700 euros et 3000 euros"
   ]
  },
  {
   "cell_type": "code",
   "execution_count": null,
   "metadata": {},
   "outputs": [],
   "source": []
  },
  {
   "cell_type": "markdown",
   "metadata": {},
   "source": [
    "Une entreprise de forage creuse des puits. Elle facture le premier mètre creusé 100€, le second mètre 140€ et ainsi de suite en augmentant le prix de 40€ à chaque nouveau mètre creusé.\n",
    "Compléter la fonction puits, de paramètre la profondeur H du puits(en mètres), afin qu’elle retourne le prix(en euros) de ce puits."
   ]
  },
  {
   "cell_type": "code",
   "execution_count": 6,
   "metadata": {},
   "outputs": [],
   "source": [
    "def puits(H) :\n",
    "    M = 100 \n",
    "    S = 100\n",
    "    N = 1\n",
    "    while N < H :\n",
    "        M = ......\n",
    "        S = ......\n",
    "        N = ......\n",
    "    return(......)"
   ]
  },
  {
   "cell_type": "markdown",
   "metadata": {},
   "source": [
    "Utiliser cette fonction pour calculer le prix d'un puits de 12 mètres de profondeur"
   ]
  },
  {
   "cell_type": "code",
   "execution_count": null,
   "metadata": {},
   "outputs": [],
   "source": []
  },
  {
   "cell_type": "markdown",
   "metadata": {},
   "source": [
    "Une association humanitaire dispose de 4000€.\n",
    "En s'inspirant de la fonction précédente, créer une fonction profondeur, sans paramètre, qui renvoie la profondeur maximale du puits qu’elle peut financer"
   ]
  },
  {
   "cell_type": "code",
   "execution_count": 14,
   "metadata": {},
   "outputs": [],
   "source": [
    "def profondeur() :\n",
    "    M = 100 \n",
    "    S = 100\n",
    "    N = 0\n",
    "    while ...... :\n",
    "        M = ......\n",
    "        S = ......\n",
    "        N = ......\n",
    "    return(......)"
   ]
  },
  {
   "cell_type": "markdown",
   "metadata": {},
   "source": [
    "Tester cette fonction et comparer avec le résultat obtenu avec la fonction puits"
   ]
  },
  {
   "cell_type": "code",
   "execution_count": null,
   "metadata": {},
   "outputs": [],
   "source": []
  },
  {
   "cell_type": "markdown",
   "metadata": {},
   "source": [
    "Modifier la fonction profondeur en lui ajoutant comme paramètre la somme dont dispose l'association et qui renvoie la profondeur du puits qu\"elle pourra creuser"
   ]
  },
  {
   "cell_type": "code",
   "execution_count": null,
   "metadata": {},
   "outputs": [],
   "source": []
  },
  {
   "cell_type": "markdown",
   "metadata": {},
   "source": [
    "Utiliser cette fonction pour donner la profondeur maximale du puits qu'on peut creuser avec 6000 euros et avec 50000 euros"
   ]
  },
  {
   "cell_type": "code",
   "execution_count": null,
   "metadata": {},
   "outputs": [],
   "source": []
  },
  {
   "cell_type": "markdown",
   "metadata": {},
   "source": [
    "Une somme de 1000 euros est placée en 2019 sur un livret bancaire avec 2% d'intérêt chaque année\n",
    "Ecrire une fonction sans paramètre qui renvoie l'année à partir de laquelle la somme d'argent sur le livret sera supérieure à 2000 euros."
   ]
  },
  {
   "cell_type": "code",
   "execution_count": null,
   "metadata": {},
   "outputs": [],
   "source": []
  },
  {
   "cell_type": "markdown",
   "metadata": {},
   "source": [
    "Tester cette fonction"
   ]
  },
  {
   "cell_type": "code",
   "execution_count": null,
   "metadata": {},
   "outputs": [],
   "source": []
  },
  {
   "cell_type": "markdown",
   "metadata": {},
   "source": [
    "Modifier la fonction en lui ajoutant comme paramètres la somme D placée au départ, le taux d'intérêt t et la somme S à dépasser et qui renvoie l'année à partir de laquelle la somme d'argent sur le livret sera supérieure à S euros."
   ]
  },
  {
   "cell_type": "code",
   "execution_count": null,
   "metadata": {},
   "outputs": [],
   "source": []
  },
  {
   "cell_type": "markdown",
   "metadata": {},
   "source": [
    "Tester cette fonction avec D = 1000, t = 2% et S = 2000 puis avec D = 100 , t = 25% et S = 10000 "
   ]
  },
  {
   "cell_type": "code",
   "execution_count": null,
   "metadata": {},
   "outputs": [],
   "source": []
  },
  {
   "cell_type": "markdown",
   "metadata": {},
   "source": [
    "### Suites et algorithmes de seuil"
   ]
  },
  {
   "cell_type": "markdown",
   "metadata": {},
   "source": [
    "Soit u, une suite arithmétique de raison -15 et de premier terme u(0)=7000\n",
    "Créer une fonction seuilu, sans paramètre, qui renvoie le plus petit rang p à partir duquel u(p)<1001"
   ]
  },
  {
   "cell_type": "code",
   "execution_count": null,
   "metadata": {},
   "outputs": [],
   "source": []
  },
  {
   "cell_type": "markdown",
   "metadata": {},
   "source": [
    "Tester cette fonction"
   ]
  },
  {
   "cell_type": "raw",
   "metadata": {},
   "source": []
  },
  {
   "cell_type": "markdown",
   "metadata": {},
   "source": [
    "Modifier la fonction seuilu en lui ajoutant comme paramètre la valeur maximale M de u(p) et qui renvoie le plus petit rang p à partir duquel u(p)< M"
   ]
  },
  {
   "cell_type": "code",
   "execution_count": null,
   "metadata": {},
   "outputs": [],
   "source": []
  },
  {
   "cell_type": "markdown",
   "metadata": {},
   "source": [
    "Tester cette fonction pour M = 1001 puis pour M = 50"
   ]
  },
  {
   "cell_type": "code",
   "execution_count": null,
   "metadata": {},
   "outputs": [],
   "source": []
  },
  {
   "cell_type": "markdown",
   "metadata": {},
   "source": [
    "Soit v, une suite géométrique de raison 1,1 et de premier terme v(1)=2\n",
    "Créer une fonction seuilv, sans paramètre, qui renvoie le plus petit rang p à partir duquel S = v(1)+v(2)+...+v(p)>100"
   ]
  },
  {
   "cell_type": "code",
   "execution_count": null,
   "metadata": {},
   "outputs": [],
   "source": []
  },
  {
   "cell_type": "markdown",
   "metadata": {},
   "source": [
    "Tester cette fonction"
   ]
  },
  {
   "cell_type": "code",
   "execution_count": null,
   "metadata": {},
   "outputs": [],
   "source": []
  },
  {
   "cell_type": "markdown",
   "metadata": {},
   "source": [
    "Modifier la fonction seuilv en lui ajoutant comme paramètre la valeur minimale m de S  et qui renvoie le plus petit rang p à partir duquel S > m"
   ]
  },
  {
   "cell_type": "code",
   "execution_count": null,
   "metadata": {},
   "outputs": [],
   "source": []
  },
  {
   "cell_type": "markdown",
   "metadata": {},
   "source": [
    "Tester cette fonction pour m = 100 puis pour M = 50000"
   ]
  },
  {
   "cell_type": "code",
   "execution_count": null,
   "metadata": {},
   "outputs": [],
   "source": []
  }
 ],
 "metadata": {
  "kernelspec": {
   "display_name": "Python 3 (ipykernel)",
   "language": "python",
   "name": "python3"
  },
  "language_info": {
   "codemirror_mode": {
    "name": "ipython",
    "version": 3
   },
   "file_extension": ".py",
   "mimetype": "text/x-python",
   "name": "python",
   "nbconvert_exporter": "python",
   "pygments_lexer": "ipython3",
   "version": "3.9.7"
  }
 },
 "nbformat": 4,
 "nbformat_minor": 4
}
